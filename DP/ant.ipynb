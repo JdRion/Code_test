{
 "cells": [
  {
   "cell_type": "code",
   "execution_count": 1,
   "metadata": {},
   "outputs": [],
   "source": [
    "# 여러 개의 식량창고 -> 일직선 \n",
    "# 선택적으로 약탈 -> 최소한 한 칸 이상 떨어진 식량창고를 약탈할 수 있음\n",
    "# 최대한 많은 식량을 얻어야함"
   ]
  },
  {
   "cell_type": "code",
   "execution_count": 2,
   "metadata": {},
   "outputs": [],
   "source": [
    "# 경우의 수가 많음\n",
    "# 규칙이 있나? -> 있음, 재사용 함 -> DP\n",
    "# max(array[i] + array[i-2], array[i-1])"
   ]
  },
  {
   "cell_type": "code",
   "execution_count": 6,
   "metadata": {},
   "outputs": [],
   "source": [
    "N = int(input())\n",
    "array=list(map(int,input().split()))"
   ]
  },
  {
   "cell_type": "code",
   "execution_count": 12,
   "metadata": {},
   "outputs": [
    {
     "data": {
      "text/plain": [
       "8"
      ]
     },
     "execution_count": 12,
     "metadata": {},
     "output_type": "execute_result"
    }
   ],
   "source": [
    "dp_table = [0]*1001\n",
    "\n",
    "dp_table[0] = array[0]\n",
    "dp_table[1] = array[1]\n",
    "\n",
    "for i in range(2,N):\n",
    "    dp_table[i] = max(dp_table[i-1],array[i]+dp_table[i-2])\n",
    "\n",
    "dp_table[n-1]"
   ]
  }
 ],
 "metadata": {
  "kernelspec": {
   "display_name": "Python 3",
   "language": "python",
   "name": "python3"
  },
  "language_info": {
   "codemirror_mode": {
    "name": "ipython",
    "version": 3
   },
   "file_extension": ".py",
   "mimetype": "text/x-python",
   "name": "python",
   "nbconvert_exporter": "python",
   "pygments_lexer": "ipython3",
   "version": "3.11.1"
  },
  "orig_nbformat": 4,
  "vscode": {
   "interpreter": {
    "hash": "5c7b89af1651d0b8571dde13640ecdccf7d5a6204171d6ab33e7c296e100e08a"
   }
  }
 },
 "nbformat": 4,
 "nbformat_minor": 2
}
