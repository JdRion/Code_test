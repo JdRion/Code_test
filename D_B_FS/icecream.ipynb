{
 "cells": [
  {
   "cell_type": "code",
   "execution_count": 4,
   "metadata": {},
   "outputs": [],
   "source": [
    "# N x M 크기 붙어 있으면 연결 0이 아이스크림\n",
    "# 총 개수 구하기"
   ]
  },
  {
   "cell_type": "code",
   "execution_count": 5,
   "metadata": {},
   "outputs": [],
   "source": [
    "# 완탐 -> bfs or dfs 돌리고 1 처리 -> 끝나면 하나씩 count"
   ]
  },
  {
   "cell_type": "code",
   "execution_count": 28,
   "metadata": {},
   "outputs": [],
   "source": [
    "N,M = 15,14\n",
    "graph = [\n",
    "    [0,0,0,0,0,1,1,1,1,0,0,0,0,0],\n",
    "    [1,1,1,1,1,1,0,1,1,1,1,1,1,0],\n",
    "    [1,1,0,1,1,1,0,1,1,0,1,1,1,0],\n",
    "    [1,1,0,1,1,1,0,1,1,0,0,0,0,0],\n",
    "    [1,1,0,1,1,1,1,1,1,1,1,1,1,1],\n",
    "    [1,1,0,1,1,1,1,1,1,1,1,1,0,0],\n",
    "    [1,1,0,0,0,0,0,0,0,1,1,1,1,1],\n",
    "    [0,1,1,1,1,1,1,1,1,1,1,1,1,1],\n",
    "    [0,0,0,0,0,0,0,0,0,1,1,1,1,1],\n",
    "    [0,1,1,1,1,1,1,1,1,1,1,0,0,0],\n",
    "    [0,0,0,1,1,1,1,1,1,1,1,0,0,0],\n",
    "    [0,0,0,0,0,0,0,1,1,1,1,0,0,0],\n",
    "    [1,1,1,1,1,1,1,1,1,1,0,0,1,1],\n",
    "    [1,1,1,0,0,0,1,1,1,1,1,1,1,1],\n",
    "    [1,1,1,0,0,0,1,1,1,1,1,1,1,1]\n",
    "]\n"
   ]
  },
  {
   "cell_type": "code",
   "execution_count": 29,
   "metadata": {},
   "outputs": [],
   "source": [
    "def dfs(graph, x, y):\n",
    "    graph[x][y] = 1\n",
    "    for i in range(len(dx)):\n",
    "        nx = x + dx[i]\n",
    "        ny = y + dy[i]\n",
    "\n",
    "        if nx < 0 or ny < 0 or nx >= N or ny >= M:\n",
    "            continue\n",
    "        else:\n",
    "            if graph[nx][ny] == 0:\n",
    "                dfs(graph,nx,ny)\n",
    "\n",
    "dx = [0,0,1,-1]\n",
    "dy = [-1,1,0,0]\n",
    "count = 0\n",
    "\n",
    "for x in range(N):\n",
    "    for y in range(M):\n",
    "        if graph[x][y] == 1:\n",
    "            continue\n",
    "        else:\n",
    "            dfs(graph,x,y)\n",
    "            count += 1"
   ]
  },
  {
   "cell_type": "code",
   "execution_count": null,
   "metadata": {},
   "outputs": [],
   "source": []
  }
 ],
 "metadata": {
  "kernelspec": {
   "display_name": "Python 3",
   "language": "python",
   "name": "python3"
  },
  "language_info": {
   "codemirror_mode": {
    "name": "ipython",
    "version": 3
   },
   "file_extension": ".py",
   "mimetype": "text/x-python",
   "name": "python",
   "nbconvert_exporter": "python",
   "pygments_lexer": "ipython3",
   "version": "3.11.1"
  },
  "orig_nbformat": 4,
  "vscode": {
   "interpreter": {
    "hash": "5c7b89af1651d0b8571dde13640ecdccf7d5a6204171d6ab33e7c296e100e08a"
   }
  }
 },
 "nbformat": 4,
 "nbformat_minor": 2
}
