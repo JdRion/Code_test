{
 "cells": [
  {
   "cell_type": "code",
   "execution_count": 32,
   "metadata": {},
   "outputs": [],
   "source": [
    "# 배열 -> 주어진 수들을 M번 더해 가장 큰 수\n",
    "# 특정한 인덱스에 해당하는 수가 연속으로 K번 초과 X\n",
    "# 같은 숫자 다른 인덱스는 다른거\n",
    "\n",
    "# sorted -> set: (최대값*K) + 최대값_{-1} -> K+1\n",
    "# (M / K) * set + (M%K)* 최대값"
   ]
  },
  {
   "cell_type": "code",
   "execution_count": 5,
   "metadata": {},
   "outputs": [],
   "source": [
    "N,M,K = 5,8,3\n",
    "# N : 배열의 크기\n",
    "# M : 숫자가 더해지는 횟수\n",
    "# K : 연속 횟수\n",
    "input_data = '2 4 5 4 6'"
   ]
  },
  {
   "cell_type": "code",
   "execution_count": 17,
   "metadata": {},
   "outputs": [],
   "source": [
    "array = sorted(map(int,input_data.split()),reverse=True)"
   ]
  },
  {
   "cell_type": "code",
   "execution_count": 29,
   "metadata": {},
   "outputs": [],
   "source": [
    "epoch = int(M / K)\n",
    "step = M % (K+1)\n",
    "big_set = array[0]*K + array[1]\n",
    "\n",
    "answer = epoch*big_set + step*array[0]"
   ]
  },
  {
   "cell_type": "code",
   "execution_count": 31,
   "metadata": {},
   "outputs": [
    {
     "data": {
      "text/plain": [
       "46"
      ]
     },
     "execution_count": 31,
     "metadata": {},
     "output_type": "execute_result"
    }
   ],
   "source": [
    "answer"
   ]
  }
 ],
 "metadata": {
  "kernelspec": {
   "display_name": "Python 3",
   "language": "python",
   "name": "python3"
  },
  "language_info": {
   "codemirror_mode": {
    "name": "ipython",
    "version": 3
   },
   "file_extension": ".py",
   "mimetype": "text/x-python",
   "name": "python",
   "nbconvert_exporter": "python",
   "pygments_lexer": "ipython3",
   "version": "3.11.1"
  },
  "orig_nbformat": 4,
  "vscode": {
   "interpreter": {
    "hash": "5c7b89af1651d0b8571dde13640ecdccf7d5a6204171d6ab33e7c296e100e08a"
   }
  }
 },
 "nbformat": 4,
 "nbformat_minor": 2
}
