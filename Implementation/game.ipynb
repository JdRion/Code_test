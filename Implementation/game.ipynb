{
 "cells": [
  {
   "cell_type": "code",
   "execution_count": 1,
   "metadata": {},
   "outputs": [],
   "source": [
    "# N x M 크기의 직사각형, 육지 또는 바다\n",
    "# 동서남북 중 한 곳을 바라봄\n",
    "# A,B -> A: 열, B: 행\n",
    "# 상하좌우 가능, 바다 x\n",
    "# 1. 왼쪽 방향부터 차례대로 \n",
    "# 2. 왼쪽에 안가봄 -> 회전 후 전진, 가봄 -> 왼쪽 방향으로 회전 후 1로 돌아감\n",
    "# 3. 네 방향 모두 이미 가봄 -> 바라보는 방향 유지 뒤로 한 칸 -> 1단계"
   ]
  },
  {
   "cell_type": "code",
   "execution_count": 2,
   "metadata": {},
   "outputs": [],
   "source": [
    "# 캐릭터가 방문한 칸의 수를 출력"
   ]
  },
  {
   "cell_type": "code",
   "execution_count": 5,
   "metadata": {},
   "outputs": [],
   "source": [
    "N,M = 4,4\n",
    "now = [1,1,0]\n",
    "sea_land = [\n",
    "[1,1,1,1],\n",
    "[1,0,0,1],\n",
    "[1,1,0,1],\n",
    "[1,1,1,1]\n",
    "]"
   ]
  },
  {
   "cell_type": "code",
   "execution_count": 6,
   "metadata": {},
   "outputs": [],
   "source": [
    "dx = [-1,0,1,0]\n",
    "dy = [0,1,0,-1]"
   ]
  },
  {
   "cell_type": "code",
   "execution_count": null,
   "metadata": {},
   "outputs": [],
   "source": [
    "def trun_left(now):\n",
    "    x,y,d = now\n",
    "    nx = x + dx[d]\n",
    "    ny = y + dy[d]\n",
    "    nd = (d + 1) % 4\n",
    "\n",
    "    if nx < 1 or ny < 1 or nx > M or ny > N:\n",
    "        continue\n",
    "    if see_land[nx][ny] == 1:\n",
    "        continue"
   ]
  },
  {
   "cell_type": "code",
   "execution_count": 8,
   "metadata": {},
   "outputs": [
    {
     "ename": "SyntaxError",
     "evalue": "can't use starred expression here (1157339268.py, line 1)",
     "output_type": "error",
     "traceback": [
      "\u001b[0;36m  Cell \u001b[0;32mIn[8], line 1\u001b[0;36m\u001b[0m\n\u001b[0;31m    *(now)\u001b[0m\n\u001b[0m    ^\u001b[0m\n\u001b[0;31mSyntaxError\u001b[0m\u001b[0;31m:\u001b[0m can't use starred expression here\n"
     ]
    }
   ],
   "source": []
  },
  {
   "cell_type": "code",
   "execution_count": null,
   "metadata": {},
   "outputs": [],
   "source": []
  }
 ],
 "metadata": {
  "kernelspec": {
   "display_name": "Python 3",
   "language": "python",
   "name": "python3"
  },
  "language_info": {
   "codemirror_mode": {
    "name": "ipython",
    "version": 3
   },
   "file_extension": ".py",
   "mimetype": "text/x-python",
   "name": "python",
   "nbconvert_exporter": "python",
   "pygments_lexer": "ipython3",
   "version": "3.11.1"
  },
  "orig_nbformat": 4,
  "vscode": {
   "interpreter": {
    "hash": "5c7b89af1651d0b8571dde13640ecdccf7d5a6204171d6ab33e7c296e100e08a"
   }
  }
 },
 "nbformat": 4,
 "nbformat_minor": 2
}
