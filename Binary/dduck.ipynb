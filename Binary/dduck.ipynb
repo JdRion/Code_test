{
 "cells": [
  {
   "cell_type": "code",
   "execution_count": 2,
   "metadata": {},
   "outputs": [],
   "source": [
    "# 떡 길이가 일정 X\n",
    "# 총 길이를 절단기로 자름\n",
    "# H를 지정하면 H 보다 크면 -> H, 작으면 그대로\n",
    "# 잘린 양 만큼 들고감\n",
    "# 요청 길이 M, 적어도 M만큼 얻으려면 높이의 최댓값\n",
    "# N -> 떡의 개수\n",
    "# M -> 요청한 떡의 길이"
   ]
  },
  {
   "cell_type": "code",
   "execution_count": 12,
   "metadata": {},
   "outputs": [],
   "source": [
    "# 가장 요청에 근사하게 잘라야함\n",
    "# scale이 굉장히 큼 -> 이진?\n",
    "# 이진, start -> min, end -> max, target = 목표\n",
    "# 특정 숫자로 갔을 때 -> 잘리는 양이랑 비교\n",
    "# 비교: 많이 잘린 경우 -> start = mid + 1, 적게 잘린 경우 -> end = mid - 1\n",
    "# 결과: 남았을 때 갱신 "
   ]
  },
  {
   "cell_type": "code",
   "execution_count": 9,
   "metadata": {},
   "outputs": [],
   "source": [
    "def binary_serach(array,target,start,end):\n",
    "    result = 0\n",
    "    while start <= end:\n",
    "        total = 0\n",
    "        mid = (start+end) // 2\n",
    "        for x in array:\n",
    "            if x > mid:\n",
    "                total += x - mid\n",
    "        if total == target:\n",
    "            return mid\n",
    "        elif total > target:\n",
    "            result = mid\n",
    "            start = mid + 1\n",
    "        else:\n",
    "            end = mid - 1\n",
    "    return result"
   ]
  },
  {
   "cell_type": "code",
   "execution_count": 10,
   "metadata": {},
   "outputs": [],
   "source": [
    "n,m = 4,6\n",
    "array = [19,15,10,17]"
   ]
  },
  {
   "cell_type": "code",
   "execution_count": 11,
   "metadata": {},
   "outputs": [
    {
     "data": {
      "text/plain": [
       "15"
      ]
     },
     "execution_count": 11,
     "metadata": {},
     "output_type": "execute_result"
    }
   ],
   "source": [
    "start = 0\n",
    "end = max(array)\n",
    "\n",
    "binary_serach(array,m,start,end)"
   ]
  }
 ],
 "metadata": {
  "kernelspec": {
   "display_name": "Python 3",
   "language": "python",
   "name": "python3"
  },
  "language_info": {
   "codemirror_mode": {
    "name": "ipython",
    "version": 3
   },
   "file_extension": ".py",
   "mimetype": "text/x-python",
   "name": "python",
   "nbconvert_exporter": "python",
   "pygments_lexer": "ipython3",
   "version": "3.11.1"
  },
  "orig_nbformat": 4,
  "vscode": {
   "interpreter": {
    "hash": "5c7b89af1651d0b8571dde13640ecdccf7d5a6204171d6ab33e7c296e100e08a"
   }
  }
 },
 "nbformat": 4,
 "nbformat_minor": 2
}
