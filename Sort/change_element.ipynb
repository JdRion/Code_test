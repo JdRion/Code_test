{
 "cells": [
  {
   "cell_type": "code",
   "execution_count": 1,
   "metadata": {},
   "outputs": [],
   "source": [
    "# 배열 2개 가지고 있음 A,B\n",
    "# 두 배열은 N개의 원소 \n",
    "# 최대 K번의 변경 가능\n",
    "# A의 모든 원소의 합이 최대"
   ]
  },
  {
   "cell_type": "code",
   "execution_count": 3,
   "metadata": {},
   "outputs": [],
   "source": [
    "# A의 최소 값과 B의 최대 값을 비교 후 데리고 와야 함\n",
    "# how? -> A를 오름차순 정렬, B를 내림차순 정렬 후 비교"
   ]
  },
  {
   "cell_type": "code",
   "execution_count": 11,
   "metadata": {},
   "outputs": [],
   "source": [
    "N,K = 5,3\n",
    "A = [1,2,5,4,3]\n",
    "B = [5,5,6,6,5]"
   ]
  },
  {
   "cell_type": "code",
   "execution_count": 12,
   "metadata": {},
   "outputs": [],
   "source": [
    "A = sorted(A)\n",
    "B = sorted(B,reverse=True)"
   ]
  },
  {
   "cell_type": "code",
   "execution_count": 13,
   "metadata": {},
   "outputs": [
    {
     "name": "stdout",
     "output_type": "stream",
     "text": [
      "26\n"
     ]
    }
   ],
   "source": [
    "for i,(a,b) in enumerate(zip(A,B)):\n",
    "    if K == 0:\n",
    "        break\n",
    "    if a < b:\n",
    "        A[i],B[i] = B[i],A[i]\n",
    "        K -= 1\n",
    "\n",
    "print(sum(A))        "
   ]
  }
 ],
 "metadata": {
  "kernelspec": {
   "display_name": "Python 3",
   "language": "python",
   "name": "python3"
  },
  "language_info": {
   "codemirror_mode": {
    "name": "ipython",
    "version": 3
   },
   "file_extension": ".py",
   "mimetype": "text/x-python",
   "name": "python",
   "nbconvert_exporter": "python",
   "pygments_lexer": "ipython3",
   "version": "3.11.1"
  },
  "orig_nbformat": 4,
  "vscode": {
   "interpreter": {
    "hash": "5c7b89af1651d0b8571dde13640ecdccf7d5a6204171d6ab33e7c296e100e08a"
   }
  }
 },
 "nbformat": 4,
 "nbformat_minor": 2
}
