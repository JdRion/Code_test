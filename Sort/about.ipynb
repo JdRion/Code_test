{
 "cells": [
  {
   "cell_type": "code",
   "execution_count": 2,
   "metadata": {},
   "outputs": [],
   "source": [
    "# 선택 정렬\n",
    "# 데이터가 무작위로 여러 개 -> 이 중 가장 작은 데이터를 맨 앞에 있는 데이터와 변경\n",
    "# 그다음 작은 데이터를 선택해 앞에서 두 번째 데이터와 바꾸는 과정을 반복"
   ]
  },
  {
   "cell_type": "code",
   "execution_count": 3,
   "metadata": {},
   "outputs": [
    {
     "name": "stdout",
     "output_type": "stream",
     "text": [
      "[0, 1, 2, 3, 4, 5, 6, 7, 8, 9]\n"
     ]
    }
   ],
   "source": [
    "array = [7,5,9,0,3,1,6,2,4,8]\n",
    "\n",
    "for i in range(len(array)):\n",
    "    min_index = i\n",
    "    for j in range(i+1, len(array)):\n",
    "        if array[min_index] > array[j]:\n",
    "            min_index = j\n",
    "    array[i],array[min_index] = array[min_index], array[i]\n",
    "\n",
    "print(array)"
   ]
  },
  {
   "cell_type": "code",
   "execution_count": 4,
   "metadata": {},
   "outputs": [],
   "source": [
    "# 삽입 정렬\n",
    "# 데이터를 하나씩 확인하며, 각 데이터를 적절한 위치에 삽입\n",
    "# '데이터가 거의 정렬되어 있을 때' 효율적\n",
    "# 삽입 정렬을 두 번째 데이터부터 시작한다. -> 첫 번째 데이터는 그 자체로 정렬되어 있다고 판단하기에"
   ]
  },
  {
   "cell_type": "code",
   "execution_count": 5,
   "metadata": {},
   "outputs": [
    {
     "name": "stdout",
     "output_type": "stream",
     "text": [
      "[0, 1, 2, 3, 4, 5, 6, 7, 8, 9]\n"
     ]
    }
   ],
   "source": [
    "array = [7,5,9,0,3,1,6,2,4,8]\n",
    "\n",
    "for i in range(1,len(array)):\n",
    "    for j in range(i,0,-1):\n",
    "        if array[j] < array[j-1]:\n",
    "            array[j],array[j-1] = array[j-1],array[j]\n",
    "        else:\n",
    "            break\n",
    "\n",
    "print(array)"
   ]
  },
  {
   "cell_type": "code",
   "execution_count": 8,
   "metadata": {},
   "outputs": [],
   "source": [
    "# 퀵 정렬\n",
    "# 종류가 많음 \n",
    "# 호어 분할 방식 -> 리스트에서 첫 번째 데이터를 피벗으로 정한다.\n",
    "# 데이터가 정렬되어 있으면 비효율적"
   ]
  },
  {
   "cell_type": "code",
   "execution_count": 7,
   "metadata": {},
   "outputs": [
    {
     "name": "stdout",
     "output_type": "stream",
     "text": [
      "[0, 1, 2, 3, 4, 5, 6, 7, 8, 9]\n"
     ]
    }
   ],
   "source": [
    "array = [5,7,9,0,3,1,6,2,4,8]\n",
    "\n",
    "def quick_sort(array):\n",
    "    if len(array) <= 1:\n",
    "        return array\n",
    "    \n",
    "    pivot = array[0]\n",
    "    tail = array[1:]\n",
    "\n",
    "    left_side = [x for x in tail if x <= pivot]\n",
    "    right_side = [x for x in tail if x > pivot]\n",
    "\n",
    "    return quick_sort(left_side)+[pivot]+quick_sort(right_side)\n",
    "\n",
    "print(quick_sort(array))    "
   ]
  },
  {
   "cell_type": "code",
   "execution_count": 9,
   "metadata": {},
   "outputs": [],
   "source": [
    "# 계수 정렬\n",
    "# 특정한 조건이 부합할 때만 사용할 수 있지만 매우 빠른 알고리즘\n",
    "# 데이터의 크기 범위가 제한되어 정수 형태로 표현할 수 있을 때\n",
    "# 일반적으로 가장 큰 데이터와 가장 작은 데이터의 차이가 1,000,000을 넘지 않을 때 효과적으로 사용할 수 있다. -> 모든 범위를 담을 수 있는 크기의 리스트를 선언해야하기에"
   ]
  },
  {
   "cell_type": "code",
   "execution_count": 11,
   "metadata": {},
   "outputs": [
    {
     "name": "stdout",
     "output_type": "stream",
     "text": [
      "0 0 1 1 2 2 4 5 5 5 6 7 8 9 9 "
     ]
    }
   ],
   "source": [
    "array = [7,5,9,0,5,1,6,2,9,1,4,8,0,5,2]\n",
    "\n",
    "count = [0]*(max(array)+1)\n",
    "\n",
    "for i in range(len(array)):\n",
    "    count[array[i]] += 1\n",
    "\n",
    "for i in range(len(count)):\n",
    "    for j in range(count[i]):\n",
    "        print(i, end= ' ')"
   ]
  },
  {
   "cell_type": "code",
   "execution_count": null,
   "metadata": {},
   "outputs": [],
   "source": []
  }
 ],
 "metadata": {
  "kernelspec": {
   "display_name": "Python 3",
   "language": "python",
   "name": "python3"
  },
  "language_info": {
   "codemirror_mode": {
    "name": "ipython",
    "version": 3
   },
   "file_extension": ".py",
   "mimetype": "text/x-python",
   "name": "python",
   "nbconvert_exporter": "python",
   "pygments_lexer": "ipython3",
   "version": "3.11.1"
  },
  "orig_nbformat": 4,
  "vscode": {
   "interpreter": {
    "hash": "5c7b89af1651d0b8571dde13640ecdccf7d5a6204171d6ab33e7c296e100e08a"
   }
  }
 },
 "nbformat": 4,
 "nbformat_minor": 2
}
